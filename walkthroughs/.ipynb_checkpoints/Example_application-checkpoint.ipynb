{
 "cells": [
  {
   "attachments": {},
   "cell_type": "markdown",
   "id": "cdfc9efa",
   "metadata": {},
   "source": [
    "# Application example\n",
    "\n",
    "Let's apply the tool to a set of variants from a cancer cell line.\n",
    "\n",
    "Dataset is from [Talsania et. al. 2022](https://genomebiology.biomedcentral.com/articles/10.1186/s13059-022-02816-6). These are structural variants called using the [Manta pipeline](https://github.com/Illumina/manta) on WGS data from Illumina in HCC1395 tumor cells."
   ]
  },
  {
   "cell_type": "code",
   "execution_count": 4,
   "id": "d6995e17",
   "metadata": {},
   "outputs": [],
   "source": [
    "import pandas as pd\n",
    "import numpy as np \n",
    "import os\n",
    "\n",
    "\n",
    "\n",
    "from pathlib import Path"
   ]
  },
  {
   "cell_type": "markdown",
   "id": "e22cbdbb",
   "metadata": {},
   "source": [
    "# Get input variants"
   ]
  },
  {
   "cell_type": "code",
   "execution_count": 8,
   "id": "b09f6e58",
   "metadata": {},
   "outputs": [],
   "source": [
    "# Get variants\n",
    "\n",
    "ftp_path = 'https://ftp-trace.ncbi.nlm.nih.gov/ReferenceSamples/seqc/Somatic_Mutation_WG/analysis/SVs/VCFs/tumor.illumina.manta.EA_T_1.vcf.gz'\n",
    "in_file = 'test/tumor.illumina.manta.EA_T_1.vcf'\n",
    "\n",
    "if not Path(f'../{in_file}').is_file():\n",
    "    os.system(f'wget -P ../test/ {ftp_path}')\n",
    "    os.system(f'gupzip {in_file}.gz')\n"
   ]
  },
  {
   "cell_type": "code",
   "execution_count": 17,
   "id": "c22e056e",
   "metadata": {},
   "outputs": [
    {
     "ename": "ValueError",
     "evalue": "invalid literal for int() with base 10: 'MantaBND:47012:0:1:0:0:0:0'",
     "output_type": "error",
     "traceback": [
      "\u001b[0;31m---------------------------------------------------------------------------\u001b[0m",
      "\u001b[0;31mTypeError\u001b[0m                                 Traceback (most recent call last)",
      "\u001b[0;32m~/miniconda3/envs/CBTN_env/lib/python3.7/site-packages/pandas/_libs/parsers.pyx\u001b[0m in \u001b[0;36mpandas._libs.parsers.TextReader._convert_tokens\u001b[0;34m()\u001b[0m\n",
      "\u001b[0;31mTypeError\u001b[0m: Cannot cast array data from dtype('O') to dtype('int64') according to the rule 'safe'",
      "\nDuring handling of the above exception, another exception occurred:\n",
      "\u001b[0;31mValueError\u001b[0m                                Traceback (most recent call last)",
      "\u001b[0;32m<ipython-input-17-8fc7bbb679bc>\u001b[0m in \u001b[0;36m<module>\u001b[0;34m\u001b[0m\n\u001b[1;32m     21\u001b[0m \u001b[0;34m\u001b[0m\u001b[0m\n\u001b[1;32m     22\u001b[0m \u001b[0;34m\u001b[0m\u001b[0m\n\u001b[0;32m---> 23\u001b[0;31m \u001b[0mread_vcf\u001b[0m\u001b[0;34m(\u001b[0m\u001b[0;34mf'../{in_file}'\u001b[0m\u001b[0;34m)\u001b[0m\u001b[0;34m\u001b[0m\u001b[0;34m\u001b[0m\u001b[0m\n\u001b[0m",
      "\u001b[0;32m<ipython-input-17-8fc7bbb679bc>\u001b[0m in \u001b[0;36mread_vcf\u001b[0;34m(path)\u001b[0m\n\u001b[1;32m     16\u001b[0m         dtype={'#CHROM': str, 'POS': int, 'ID': str, 'REF': str, 'ALT': str,\n\u001b[1;32m     17\u001b[0m                'QUAL': str, 'FILTER': str, 'INFO': str},\n\u001b[0;32m---> 18\u001b[0;31m         \u001b[0msep\u001b[0m\u001b[0;34m=\u001b[0m\u001b[0;34m'\\t'\u001b[0m\u001b[0;34m\u001b[0m\u001b[0;34m\u001b[0m\u001b[0m\n\u001b[0m\u001b[1;32m     19\u001b[0m     ).rename(columns={'#CHROM': 'CHROM'})\n\u001b[1;32m     20\u001b[0m \u001b[0;34m\u001b[0m\u001b[0m\n",
      "\u001b[0;32m~/miniconda3/envs/CBTN_env/lib/python3.7/site-packages/pandas/util/_decorators.py\u001b[0m in \u001b[0;36mwrapper\u001b[0;34m(*args, **kwargs)\u001b[0m\n\u001b[1;32m    309\u001b[0m                     \u001b[0mstacklevel\u001b[0m\u001b[0;34m=\u001b[0m\u001b[0mstacklevel\u001b[0m\u001b[0;34m,\u001b[0m\u001b[0;34m\u001b[0m\u001b[0;34m\u001b[0m\u001b[0m\n\u001b[1;32m    310\u001b[0m                 )\n\u001b[0;32m--> 311\u001b[0;31m             \u001b[0;32mreturn\u001b[0m \u001b[0mfunc\u001b[0m\u001b[0;34m(\u001b[0m\u001b[0;34m*\u001b[0m\u001b[0margs\u001b[0m\u001b[0;34m,\u001b[0m \u001b[0;34m**\u001b[0m\u001b[0mkwargs\u001b[0m\u001b[0;34m)\u001b[0m\u001b[0;34m\u001b[0m\u001b[0;34m\u001b[0m\u001b[0m\n\u001b[0m\u001b[1;32m    312\u001b[0m \u001b[0;34m\u001b[0m\u001b[0m\n\u001b[1;32m    313\u001b[0m         \u001b[0;32mreturn\u001b[0m \u001b[0mwrapper\u001b[0m\u001b[0;34m\u001b[0m\u001b[0;34m\u001b[0m\u001b[0m\n",
      "\u001b[0;32m~/miniconda3/envs/CBTN_env/lib/python3.7/site-packages/pandas/io/parsers/readers.py\u001b[0m in \u001b[0;36mread_csv\u001b[0;34m(filepath_or_buffer, sep, delimiter, header, names, index_col, usecols, squeeze, prefix, mangle_dupe_cols, dtype, engine, converters, true_values, false_values, skipinitialspace, skiprows, skipfooter, nrows, na_values, keep_default_na, na_filter, verbose, skip_blank_lines, parse_dates, infer_datetime_format, keep_date_col, date_parser, dayfirst, cache_dates, iterator, chunksize, compression, thousands, decimal, lineterminator, quotechar, quoting, doublequote, escapechar, comment, encoding, encoding_errors, dialect, error_bad_lines, warn_bad_lines, on_bad_lines, delim_whitespace, low_memory, memory_map, float_precision, storage_options)\u001b[0m\n\u001b[1;32m    584\u001b[0m     \u001b[0mkwds\u001b[0m\u001b[0;34m.\u001b[0m\u001b[0mupdate\u001b[0m\u001b[0;34m(\u001b[0m\u001b[0mkwds_defaults\u001b[0m\u001b[0;34m)\u001b[0m\u001b[0;34m\u001b[0m\u001b[0;34m\u001b[0m\u001b[0m\n\u001b[1;32m    585\u001b[0m \u001b[0;34m\u001b[0m\u001b[0m\n\u001b[0;32m--> 586\u001b[0;31m     \u001b[0;32mreturn\u001b[0m \u001b[0m_read\u001b[0m\u001b[0;34m(\u001b[0m\u001b[0mfilepath_or_buffer\u001b[0m\u001b[0;34m,\u001b[0m \u001b[0mkwds\u001b[0m\u001b[0;34m)\u001b[0m\u001b[0;34m\u001b[0m\u001b[0;34m\u001b[0m\u001b[0m\n\u001b[0m\u001b[1;32m    587\u001b[0m \u001b[0;34m\u001b[0m\u001b[0m\n\u001b[1;32m    588\u001b[0m \u001b[0;34m\u001b[0m\u001b[0m\n",
      "\u001b[0;32m~/miniconda3/envs/CBTN_env/lib/python3.7/site-packages/pandas/io/parsers/readers.py\u001b[0m in \u001b[0;36m_read\u001b[0;34m(filepath_or_buffer, kwds)\u001b[0m\n\u001b[1;32m    486\u001b[0m \u001b[0;34m\u001b[0m\u001b[0m\n\u001b[1;32m    487\u001b[0m     \u001b[0;32mwith\u001b[0m \u001b[0mparser\u001b[0m\u001b[0;34m:\u001b[0m\u001b[0;34m\u001b[0m\u001b[0;34m\u001b[0m\u001b[0m\n\u001b[0;32m--> 488\u001b[0;31m         \u001b[0;32mreturn\u001b[0m \u001b[0mparser\u001b[0m\u001b[0;34m.\u001b[0m\u001b[0mread\u001b[0m\u001b[0;34m(\u001b[0m\u001b[0mnrows\u001b[0m\u001b[0;34m)\u001b[0m\u001b[0;34m\u001b[0m\u001b[0;34m\u001b[0m\u001b[0m\n\u001b[0m\u001b[1;32m    489\u001b[0m \u001b[0;34m\u001b[0m\u001b[0m\n\u001b[1;32m    490\u001b[0m \u001b[0;34m\u001b[0m\u001b[0m\n",
      "\u001b[0;32m~/miniconda3/envs/CBTN_env/lib/python3.7/site-packages/pandas/io/parsers/readers.py\u001b[0m in \u001b[0;36mread\u001b[0;34m(self, nrows)\u001b[0m\n\u001b[1;32m   1045\u001b[0m     \u001b[0;32mdef\u001b[0m \u001b[0mread\u001b[0m\u001b[0;34m(\u001b[0m\u001b[0mself\u001b[0m\u001b[0;34m,\u001b[0m \u001b[0mnrows\u001b[0m\u001b[0;34m=\u001b[0m\u001b[0;32mNone\u001b[0m\u001b[0;34m)\u001b[0m\u001b[0;34m:\u001b[0m\u001b[0;34m\u001b[0m\u001b[0;34m\u001b[0m\u001b[0m\n\u001b[1;32m   1046\u001b[0m         \u001b[0mnrows\u001b[0m \u001b[0;34m=\u001b[0m \u001b[0mvalidate_integer\u001b[0m\u001b[0;34m(\u001b[0m\u001b[0;34m\"nrows\"\u001b[0m\u001b[0;34m,\u001b[0m \u001b[0mnrows\u001b[0m\u001b[0;34m)\u001b[0m\u001b[0;34m\u001b[0m\u001b[0;34m\u001b[0m\u001b[0m\n\u001b[0;32m-> 1047\u001b[0;31m         \u001b[0mindex\u001b[0m\u001b[0;34m,\u001b[0m \u001b[0mcolumns\u001b[0m\u001b[0;34m,\u001b[0m \u001b[0mcol_dict\u001b[0m \u001b[0;34m=\u001b[0m \u001b[0mself\u001b[0m\u001b[0;34m.\u001b[0m\u001b[0m_engine\u001b[0m\u001b[0;34m.\u001b[0m\u001b[0mread\u001b[0m\u001b[0;34m(\u001b[0m\u001b[0mnrows\u001b[0m\u001b[0;34m)\u001b[0m\u001b[0;34m\u001b[0m\u001b[0;34m\u001b[0m\u001b[0m\n\u001b[0m\u001b[1;32m   1048\u001b[0m \u001b[0;34m\u001b[0m\u001b[0m\n\u001b[1;32m   1049\u001b[0m         \u001b[0;32mif\u001b[0m \u001b[0mindex\u001b[0m \u001b[0;32mis\u001b[0m \u001b[0;32mNone\u001b[0m\u001b[0;34m:\u001b[0m\u001b[0;34m\u001b[0m\u001b[0;34m\u001b[0m\u001b[0m\n",
      "\u001b[0;32m~/miniconda3/envs/CBTN_env/lib/python3.7/site-packages/pandas/io/parsers/c_parser_wrapper.py\u001b[0m in \u001b[0;36mread\u001b[0;34m(self, nrows)\u001b[0m\n\u001b[1;32m    221\u001b[0m         \u001b[0;32mtry\u001b[0m\u001b[0;34m:\u001b[0m\u001b[0;34m\u001b[0m\u001b[0;34m\u001b[0m\u001b[0m\n\u001b[1;32m    222\u001b[0m             \u001b[0;32mif\u001b[0m \u001b[0mself\u001b[0m\u001b[0;34m.\u001b[0m\u001b[0mlow_memory\u001b[0m\u001b[0;34m:\u001b[0m\u001b[0;34m\u001b[0m\u001b[0;34m\u001b[0m\u001b[0m\n\u001b[0;32m--> 223\u001b[0;31m                 \u001b[0mchunks\u001b[0m \u001b[0;34m=\u001b[0m \u001b[0mself\u001b[0m\u001b[0;34m.\u001b[0m\u001b[0m_reader\u001b[0m\u001b[0;34m.\u001b[0m\u001b[0mread_low_memory\u001b[0m\u001b[0;34m(\u001b[0m\u001b[0mnrows\u001b[0m\u001b[0;34m)\u001b[0m\u001b[0;34m\u001b[0m\u001b[0;34m\u001b[0m\u001b[0m\n\u001b[0m\u001b[1;32m    224\u001b[0m                 \u001b[0;31m# destructive to chunks\u001b[0m\u001b[0;34m\u001b[0m\u001b[0;34m\u001b[0m\u001b[0;34m\u001b[0m\u001b[0m\n\u001b[1;32m    225\u001b[0m                 \u001b[0mdata\u001b[0m \u001b[0;34m=\u001b[0m \u001b[0m_concatenate_chunks\u001b[0m\u001b[0;34m(\u001b[0m\u001b[0mchunks\u001b[0m\u001b[0;34m)\u001b[0m\u001b[0;34m\u001b[0m\u001b[0;34m\u001b[0m\u001b[0m\n",
      "\u001b[0;32m~/miniconda3/envs/CBTN_env/lib/python3.7/site-packages/pandas/_libs/parsers.pyx\u001b[0m in \u001b[0;36mpandas._libs.parsers.TextReader.read_low_memory\u001b[0;34m()\u001b[0m\n",
      "\u001b[0;32m~/miniconda3/envs/CBTN_env/lib/python3.7/site-packages/pandas/_libs/parsers.pyx\u001b[0m in \u001b[0;36mpandas._libs.parsers.TextReader._read_rows\u001b[0;34m()\u001b[0m\n",
      "\u001b[0;32m~/miniconda3/envs/CBTN_env/lib/python3.7/site-packages/pandas/_libs/parsers.pyx\u001b[0m in \u001b[0;36mpandas._libs.parsers.TextReader._convert_column_data\u001b[0;34m()\u001b[0m\n",
      "\u001b[0;32m~/miniconda3/envs/CBTN_env/lib/python3.7/site-packages/pandas/_libs/parsers.pyx\u001b[0m in \u001b[0;36mpandas._libs.parsers.TextReader._convert_tokens\u001b[0;34m()\u001b[0m\n",
      "\u001b[0;31mValueError\u001b[0m: invalid literal for int() with base 10: 'MantaBND:47012:0:1:0:0:0:0'"
     ]
    }
   ],
   "source": [
    "import io \n",
    "\n",
    "def read_vcf(path):\n",
    "    \n",
    "    '''\n",
    "    Read  vcf files into dataframe.\n",
    "    Source: https://gist.github.com/dceoy/99d976a2c01e7f0ba1c813778f9db744.\n",
    "    \n",
    "    '''\n",
    "    \n",
    "    with open(path, 'r') as f:\n",
    "        lines = [l for l in f if not l.startswith('##')]\n",
    "        \n",
    "    return pd.read_csv(\n",
    "        io.StringIO(''.join(lines)),\n",
    "        dtype={'#CHROM': str, 'POS': int, 'ID': str, 'REF': str, 'ALT': str,\n",
    "               'QUAL': str, 'FILTER': str, 'INFO': str},\n",
    "        sep='\\t'\n",
    "    ).rename(columns={'#CHROM': 'CHROM'})\n",
    "\n",
    "\n",
    "\n",
    "read_vcf(f'../{in_file}')"
   ]
  },
  {
   "cell_type": "code",
   "execution_count": 12,
   "id": "7193c478",
   "metadata": {},
   "outputs": [
    {
     "data": {
      "text/html": [
       "<div>\n",
       "<style scoped>\n",
       "    .dataframe tbody tr th:only-of-type {\n",
       "        vertical-align: middle;\n",
       "    }\n",
       "\n",
       "    .dataframe tbody tr th {\n",
       "        vertical-align: top;\n",
       "    }\n",
       "\n",
       "    .dataframe thead th {\n",
       "        text-align: right;\n",
       "    }\n",
       "</style>\n",
       "<table border=\"1\" class=\"dataframe\">\n",
       "  <thead>\n",
       "    <tr style=\"text-align: right;\">\n",
       "      <th></th>\n",
       "      <th>CHROM</th>\n",
       "      <th>POS</th>\n",
       "      <th>END</th>\n",
       "      <th>REF</th>\n",
       "      <th>ALT</th>\n",
       "      <th>SVTYPE</th>\n",
       "      <th>SVLEN</th>\n",
       "    </tr>\n",
       "  </thead>\n",
       "  <tbody>\n",
       "    <tr>\n",
       "      <th>0</th>\n",
       "      <td>chr1</td>\n",
       "      <td>1117831</td>\n",
       "      <td>NaN</td>\n",
       "      <td>C</td>\n",
       "      <td>[chr22:20272153[C</td>\n",
       "      <td>NaN</td>\n",
       "      <td>NaN</td>\n",
       "    </tr>\n",
       "    <tr>\n",
       "      <th>1</th>\n",
       "      <td>chr1</td>\n",
       "      <td>1119512</td>\n",
       "      <td>NaN</td>\n",
       "      <td>A</td>\n",
       "      <td>ACAGTGC]chr22:20302979]</td>\n",
       "      <td>NaN</td>\n",
       "      <td>NaN</td>\n",
       "    </tr>\n",
       "    <tr>\n",
       "      <th>2</th>\n",
       "      <td>chr1</td>\n",
       "      <td>3721048</td>\n",
       "      <td>3734333</td>\n",
       "      <td>T</td>\n",
       "      <td>&lt;DUP:TANDEM&gt;</td>\n",
       "      <td>DUP</td>\n",
       "      <td>13285</td>\n",
       "    </tr>\n",
       "    <tr>\n",
       "      <th>3</th>\n",
       "      <td>chr1</td>\n",
       "      <td>6742482</td>\n",
       "      <td>NaN</td>\n",
       "      <td>C</td>\n",
       "      <td>C[chr12:96100887[</td>\n",
       "      <td>NaN</td>\n",
       "      <td>NaN</td>\n",
       "    </tr>\n",
       "    <tr>\n",
       "      <th>4</th>\n",
       "      <td>chr1</td>\n",
       "      <td>9357666</td>\n",
       "      <td>9377061</td>\n",
       "      <td>G</td>\n",
       "      <td>&lt;DEL&gt;</td>\n",
       "      <td>DEL</td>\n",
       "      <td>-19395</td>\n",
       "    </tr>\n",
       "    <tr>\n",
       "      <th>...</th>\n",
       "      <td>...</td>\n",
       "      <td>...</td>\n",
       "      <td>...</td>\n",
       "      <td>...</td>\n",
       "      <td>...</td>\n",
       "      <td>...</td>\n",
       "      <td>...</td>\n",
       "    </tr>\n",
       "    <tr>\n",
       "      <th>1543</th>\n",
       "      <td>chrY</td>\n",
       "      <td>14531089</td>\n",
       "      <td>NaN</td>\n",
       "      <td>T</td>\n",
       "      <td>T[chrX:6219006[</td>\n",
       "      <td>NaN</td>\n",
       "      <td>NaN</td>\n",
       "    </tr>\n",
       "    <tr>\n",
       "      <th>1544</th>\n",
       "      <td>chrY</td>\n",
       "      <td>14533586</td>\n",
       "      <td>NaN</td>\n",
       "      <td>A</td>\n",
       "      <td>A]chrX:6219008]</td>\n",
       "      <td>NaN</td>\n",
       "      <td>NaN</td>\n",
       "    </tr>\n",
       "    <tr>\n",
       "      <th>1545</th>\n",
       "      <td>chr16_KI270728v1_random</td>\n",
       "      <td>1769992</td>\n",
       "      <td>NaN</td>\n",
       "      <td>A</td>\n",
       "      <td>A[chr9:129442980[</td>\n",
       "      <td>NaN</td>\n",
       "      <td>NaN</td>\n",
       "    </tr>\n",
       "    <tr>\n",
       "      <th>1546</th>\n",
       "      <td>chr17_KI270729v1_random</td>\n",
       "      <td>162446</td>\n",
       "      <td>162616</td>\n",
       "      <td>GAGTCCATTCGATGATTTCATTAGATTCCATTGGAAGATGATTCCA...</td>\n",
       "      <td>G</td>\n",
       "      <td>DEL</td>\n",
       "      <td>-170</td>\n",
       "    </tr>\n",
       "    <tr>\n",
       "      <th>1547</th>\n",
       "      <td>chrUn_KI270591v1</td>\n",
       "      <td>537</td>\n",
       "      <td>878</td>\n",
       "      <td>CTGTTTCCATACTGCTCAAGAAAATAAAGGTTCAACTTTGTGGGAT...</td>\n",
       "      <td>C</td>\n",
       "      <td>DEL</td>\n",
       "      <td>-341</td>\n",
       "    </tr>\n",
       "  </tbody>\n",
       "</table>\n",
       "<p>1548 rows × 7 columns</p>\n",
       "</div>"
      ],
      "text/plain": [
       "                        CHROM       POS      END  \\\n",
       "0                        chr1   1117831      NaN   \n",
       "1                        chr1   1119512      NaN   \n",
       "2                        chr1   3721048  3734333   \n",
       "3                        chr1   6742482      NaN   \n",
       "4                        chr1   9357666  9377061   \n",
       "...                       ...       ...      ...   \n",
       "1543                     chrY  14531089      NaN   \n",
       "1544                     chrY  14533586      NaN   \n",
       "1545  chr16_KI270728v1_random   1769992      NaN   \n",
       "1546  chr17_KI270729v1_random    162446   162616   \n",
       "1547         chrUn_KI270591v1       537      878   \n",
       "\n",
       "                                                    REF  \\\n",
       "0                                                     C   \n",
       "1                                                     A   \n",
       "2                                                     T   \n",
       "3                                                     C   \n",
       "4                                                     G   \n",
       "...                                                 ...   \n",
       "1543                                                  T   \n",
       "1544                                                  A   \n",
       "1545                                                  A   \n",
       "1546  GAGTCCATTCGATGATTTCATTAGATTCCATTGGAAGATGATTCCA...   \n",
       "1547  CTGTTTCCATACTGCTCAAGAAAATAAAGGTTCAACTTTGTGGGAT...   \n",
       "\n",
       "                          ALT SVTYPE   SVLEN  \n",
       "0           [chr22:20272153[C    NaN     NaN  \n",
       "1     ACAGTGC]chr22:20302979]    NaN     NaN  \n",
       "2                <DUP:TANDEM>    DUP   13285  \n",
       "3           C[chr12:96100887[    NaN     NaN  \n",
       "4                       <DEL>    DEL  -19395  \n",
       "...                       ...    ...     ...  \n",
       "1543          T[chrX:6219006[    NaN     NaN  \n",
       "1544          A]chrX:6219008]    NaN     NaN  \n",
       "1545        A[chr9:129442980[    NaN     NaN  \n",
       "1546                        G    DEL    -170  \n",
       "1547                        C    DEL    -341  \n",
       "\n",
       "[1548 rows x 7 columns]"
      ]
     },
     "execution_count": 12,
     "metadata": {},
     "output_type": "execute_result"
    }
   ],
   "source": [
    "# Read input\n",
    "\n",
    "import sys\n",
    "sys.path.insert(0, '../scripts')\n",
    "\n",
    "import reading_utils\n",
    "reading_utils.var_set_size = 2000\n",
    "\n",
    "variants = reading_utils.read_input(f'../{in_file}', 0)\n",
    "variants"
   ]
  },
  {
   "cell_type": "code",
   "execution_count": 14,
   "id": "619b9c39",
   "metadata": {},
   "outputs": [
    {
     "data": {
      "text/plain": [
       "DEL    552\n",
       "DUP    294\n",
       "INS     80\n",
       "Name: SVTYPE, dtype: int64"
      ]
     },
     "execution_count": 14,
     "metadata": {},
     "output_type": "execute_result"
    }
   ],
   "source": [
    "# Look at varinat types present\n",
    "variants.SVTYPE.value_counts()"
   ]
  },
  {
   "cell_type": "markdown",
   "id": "442002db",
   "metadata": {},
   "source": [
    "# Score variants using tool"
   ]
  },
  {
   "cell_type": "code",
   "execution_count": 13,
   "id": "afd652d7",
   "metadata": {},
   "outputs": [
    {
     "name": "stdout",
     "output_type": "stream",
     "text": [
      "Run this command in the main directory:\n",
      "\n",
      "python scripts/score_var.py test/tumor.illumina.manta.EA_T_1.vcf --file tumor --dir test/tumor_output --augment --get_scores\n"
     ]
    }
   ],
   "source": [
    "# Get run command\n",
    "\n",
    "file = 'tumor'#'CTCF_del' # Output files prefix\n",
    "directory = 'test/tumor_output'# '../test/output' # Output directory\n",
    "\n",
    "print('Run this command in the main directory:\\n')\n",
    "print('python scripts/score_var.py', in_file,\n",
    "      '--file', file, # File name prefix for outputs\n",
    "      '--dir', directory, # Path to save output in \n",
    "      '--augment', # Get the average augmented scores\n",
    "      '--get_scores')\n"
   ]
  },
  {
   "cell_type": "markdown",
   "id": "0275dcd9",
   "metadata": {},
   "source": [
    "# Prioritize most disruptive variants"
   ]
  },
  {
   "cell_type": "code",
   "execution_count": null,
   "id": "ac876712",
   "metadata": {},
   "outputs": [],
   "source": [
    "# Read output"
   ]
  },
  {
   "cell_type": "code",
   "execution_count": null,
   "id": "2b898669",
   "metadata": {},
   "outputs": [],
   "source": [
    "\n",
    "\n",
    "top_variants = []\n",
    "\n",
    "for SVTYPE in [x for x in scores.SVTYPE.unique() if x is not np.nan]:\n",
    "    \n",
    "    top_var = list(scores[scores.SVTYPE == SVTYPE]\n",
    "                        .sort_values('mse_mean', ascending = False)\n",
    "                        .head(3)\n",
    "                        .index\n",
    "                        .values)\n",
    "    \n",
    "    for var in top_var:\n",
    "        top_variants.append(var)\n",
    "        \n",
    "top_variants"
   ]
  },
  {
   "cell_type": "markdown",
   "id": "69ee45ee",
   "metadata": {},
   "source": [
    "# Get maps for top scoring variants using tool"
   ]
  },
  {
   "cell_type": "code",
   "execution_count": null,
   "id": "73940a54",
   "metadata": {},
   "outputs": [],
   "source": []
  },
  {
   "cell_type": "code",
   "execution_count": null,
   "id": "0dd1354b",
   "metadata": {},
   "outputs": [],
   "source": []
  },
  {
   "cell_type": "markdown",
   "id": "ea0c101d",
   "metadata": {},
   "source": [
    "# Plot maps for top scoring variants"
   ]
  },
  {
   "cell_type": "code",
   "execution_count": null,
   "id": "1d6f160c",
   "metadata": {},
   "outputs": [],
   "source": []
  },
  {
   "cell_type": "code",
   "execution_count": null,
   "id": "b8e4cb3f",
   "metadata": {},
   "outputs": [],
   "source": []
  },
  {
   "cell_type": "code",
   "execution_count": null,
   "id": "4277c35a",
   "metadata": {},
   "outputs": [],
   "source": []
  },
  {
   "cell_type": "code",
   "execution_count": null,
   "id": "f9612610",
   "metadata": {},
   "outputs": [],
   "source": []
  }
 ],
 "metadata": {
  "kernelspec": {
   "display_name": "Python 3",
   "language": "python",
   "name": "python3"
  },
  "language_info": {
   "codemirror_mode": {
    "name": "ipython",
    "version": 3
   },
   "file_extension": ".py",
   "mimetype": "text/x-python",
   "name": "python",
   "nbconvert_exporter": "python",
   "pygments_lexer": "ipython3",
   "version": "3.7.11"
  },
  "toc": {
   "base_numbering": 1,
   "nav_menu": {},
   "number_sections": true,
   "sideBar": true,
   "skip_h1_title": false,
   "title_cell": "Table of Contents",
   "title_sidebar": "Contents",
   "toc_cell": false,
   "toc_position": {},
   "toc_section_display": true,
   "toc_window_display": false
  }
 },
 "nbformat": 4,
 "nbformat_minor": 5
}
